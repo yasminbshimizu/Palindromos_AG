{
 "cells": [
  {
   "cell_type": "markdown",
   "id": "3ee802d2",
   "metadata": {},
   "source": [
    "<img src=\"https://pages.cnpem.br/workshopbioimagens/wp-content/uploads/sites/166/2023/06/logo-ilum-2048x382.png\" alt=\"Descrição da imagem\" style=\"width: 1000px; height: auto; \">\n",
    " \n",
    "<div style=\" padding: 10px; font-size:25px; text-align: center;\">\n",
    "<strong> 👹 Fera Formidável 4.12👹 </strong> \n",
    "</div>\n",
    " \n",
    "<div style=\" padding: 10px; font-size: 50px; text-align: center;\">\n",
    "<strong> Oto come mocotÓ </strong> \n",
    "</div>\n",
    "<div class=\"alert alert-warning\">\n",
    "<div style=\"text-align: center; font-size: 15px\"><b>Objetivo:</b>  Encontre pelo menos 10 palíndromos diferentes de 5 letras. Estes palíndromos devem ter pelo menos uma vogal. Não é necessário que eles formem palavras válidas em português ou qualquer outro idioma.</div>\n",
    "</div>\n",
    " \n",
    "<div style=\" padding: 10px; font-size: 15px; text-align: center;\">\n",
    "<strong>Júlia Guedes Almeida dos Santos & Yasmin Barbosa Shimizu</strong></div>\n",
    "<div style=\" padding: 10px; font-size: 15px; text-align: center;\">\n",
    "Prof. Dr. Daniel R. Cassar</div>"
   ]
  },
  {
   "cell_type": "markdown",
   "id": "0d7eaedc",
   "metadata": {},
   "source": [
    "## 📝 **Introdução**  "
   ]
  },
  {
   "cell_type": "markdown",
   "id": "6658b09c",
   "metadata": {},
   "source": [
    "> \"Socorram-me, subi no ônibus em Marrocos!\"\n",
    "\n",
    "<p align=\"justify\">\n",
    "A frase acima é um dos exemplos mais conhecidos de palíndromo. Esse conceito, segundo o Dicionário Online de Lingua Portuguesa, pode ser definido como \"Uma palavra ou frase que pode ser lida no seu sentido normal, da esquerda para a direita, bem como no sentido contrário, da direita para a esquerda, sem que haja mudança nas palavras que a formam e no seu significado\" [1].\n",
    "</p>\n",
    "\n",
    "<p align=\"justify\">\n",
    "No contexto de algoritmos genéticos, seguindo uma lógica semelhante ao problema da senha, no qual palavras/frases são criadas a partir de uma função de criação de população, palíndromos podem ser descobertos a partir dessa construção. No notebook em questão, 10 palíndromos, formados por 5 letras cada, serão encontrados. A única restrição é que todos precisam ter pelo menos uma vogal. Para que isso aconteça, a função objetiva atribuirá uma penalização proporcional a maior distância entre uma letra da palavra e uma vogal. Para o fitness total do palíndromo, será considerada a distância entre o primeiro e o último elemento somada a distância entre o segundo e o penúltimo, somada a essa penalização. Ademais, todos os indivíduos criados inicialmente pela função de criação da população precisarão ser compostos por uma vogal.\n",
    "</p> \n",
    "\n",
    "<p align=\"justify\">\n",
    "Além dos operadores de seleção (seleção por torneio), cruzamento (cruzamento de ponto duplo) e mutação (mutação de salto), será implementada uma nova função de mutação. Essa, caso a função não tenha nenhuma letra repetida, irá sortear um determinado gene e mudará seu valor para um igual a outro gene sorteado. Dessa forma, o conceito de letras repetidas na palavra será introduzido, o que pode auxiliar na convergência.\n",
    "</p>"
   ]
  },
  {
   "cell_type": "markdown",
   "id": "553303e1",
   "metadata": {},
   "source": [
    "## 📚 **Importação de bibliotecas & funções** "
   ]
  },
  {
   "cell_type": "markdown",
   "id": "7cbab280",
   "metadata": {},
   "source": [
    "Em primeiro lugar, precisamos importar as bibliotecas necessárias para resolução do problema. A biblioteca ``string`` será utilizada para a definição dos caracteres possíveis para o palíndromo (todas as letras minúsculas do alfabeto). As demais funções serão importadas do script feito para a resolução desse trabalho."
   ]
  },
  {
   "cell_type": "code",
   "execution_count": 1,
   "id": "40380fb1",
   "metadata": {},
   "outputs": [],
   "source": [
    "from string import ascii_lowercase\n",
    "\n",
    "from funcoes_palindromos import populacao_palindromo as cria_populacao\n",
    "from funcoes_palindromos import funcao_objetivo_pop_palindromo as funcao_objetivo\n",
    "from funcoes_palindromos import selecao_torneio_min as funcao_selecao\n",
    "from funcoes_palindromos import cruzamento_ponto_duplo as funcao_cruzamento\n",
    "from funcoes_palindromos import mutacao_salto as funcao_mutacao1\n",
    "from funcoes_palindromos import mutacao_letra_repetida as funcao_mutacao2"
   ]
  },
  {
   "cell_type": "markdown",
   "id": "a2d5c31a",
   "metadata": {},
   "source": [
    "## 🔠 **Definição dos parâmetros** "
   ]
  },
  {
   "cell_type": "markdown",
   "id": "c8ab10b8",
   "metadata": {},
   "source": [
    "Com as funções definidas, a próxima etapa consiste na definição dos parâmetros para a implementação do algoritmo genético. Em primeiro lugar, os caracteres possíveis, assim como mencionado na seção de importações, consistirá em todas as letras minúsculas do alfabeto."
   ]
  },
  {
   "cell_type": "code",
   "execution_count": 2,
   "id": "1186a668",
   "metadata": {},
   "outputs": [],
   "source": [
    "CARACTERES_POSSIVEIS = ascii_lowercase"
   ]
  },
  {
   "cell_type": "markdown",
   "id": "ec4a34dc",
   "metadata": {},
   "source": [
    "Em relação aos parâmetros, temos que esses serão definidos como:\n",
    "\n",
    "* **Tamanho da população**: Cada geração será composta por apenas 10 indivíduos (espaço de busca reduzido em relação a problemas como o da senha, que podem abranger letras maiúsculas e digítos);\n",
    "\n",
    "* **Taxa de cruzamento**: Definida como 0.7 (ou 70%), define a probabilidade de dois indivíduos — \"pai\" e \"mãe\" — serem cruzados para gerar novos indivíduos;\n",
    "\n",
    "* **Taxa de mutação**: Estabelecida em 5%, considerando que duas funções de mutação serão estabelecidas;\n",
    "\n",
    "* **Tamanho do torneio**: Cada seleção por torneio considerará 3 indivíduos sorteados a partir de uma amostragem da população, dentre os quais apenas o melhor será escolhido;"
   ]
  },
  {
   "cell_type": "code",
   "execution_count": 3,
   "id": "2dc2473c",
   "metadata": {},
   "outputs": [],
   "source": [
    "TAMANHO_POPULACAO = 10\n",
    "CHANCE_DE_CRUZAMENTO = 0.7\n",
    "CHANCE_DE_MUTACAO = 0.05\n",
    "TAMANHO_TORNEIO = 3"
   ]
  },
  {
   "cell_type": "markdown",
   "id": "7c7068cd",
   "metadata": {},
   "source": [
    "Para obter 10 palíndromos, os resultados gerados pelo algoritmo genético serão armazenados em uma lista. Enquanto a lista não contiver 10 indivíduos válidos, um loop while reiniciará as gerações do algoritmo, executando-o novamente. Ao final de cada execução, os melhores indivíduos serão exibidos junto com a geração em que foram encontrados e abaixo de identificador correspondente ao número do palíndromo gerado. Como operadores, serão utilizados:\n",
    "\n",
    "\n",
    "* **Seleção por torneio**: Um conjunto de $n$ indivíduos (definido pela variável TAMANHO_TORNEIO) é selecionado aleatoriamente. Dentre eles, os $k$ mais aptos — isto é, aqueles com menor valor de função de fitness, indicando maior proximidade de formar um palíndromo — são escolhidos para compor a próxima geração.\n",
    "\n",
    "* **Cruzamento de ponto duplo**: Dois pontos ao longo do genótipo dos pais são selecionados aleatoriamente, e os segmentos entre esses pontos são trocados entre os indivíduos, gerando dois descendentes com características combinadas.\n",
    "\n",
    "* **Mutação por salto**: Um gene aleatório do indivíduo é substituído por uma letra situada $n$ posições antes ou depois na ordem alfabética, promovendo diversidade genética.\n",
    "\n",
    "Na função responsável por criar os candidatos iniciais, cada indivíduo é composto por 5 letras aleatórias, com a restrição de que pelo menos uma delas seja uma vogal. Para garantir isso, o processo consiste em sortear 4 letras quaisquer e, em seguida, inserir uma vogal aleatória em uma posição aleatória do genótipo.\n",
    "\n",
    "Como adaptações específicas para o problema de geração de palíndromos, foram desenvolvidas:\n",
    "\n",
    "* **Função objetivo**: Avalia a qualidade de um indivíduo com base na soma das distâncias entre o primeiro e o último caracteres, e entre o segundo e o penúltimo. Como penalização adicional, caso o indivíduo não contenha nenhuma vogal, é aplicada uma penalidade proporcional — 10 vezes a maior distância entre uma letra da palavra e uma vogal (calculada a partir do produto cartesiano entre as vogais existentes e as letras da palavra).\n",
    "\n",
    "* **Função de mutação por letra repetida**: Se um indivíduo for sorteado para mutação e não possuir letras repetidas, um de seus genes será alterado para copiar o valor de outro gene aleatório do mesmo indivíduo. Essa abordagem favorece a formação de estruturas repetidas, essenciais para a construção de palíndromos, especialmente nas primeiras gerações.\n",
    "\n"
   ]
  },
  {
   "cell_type": "markdown",
   "id": "930c6eac",
   "metadata": {},
   "source": [
    "Com isso estabelecido, é possível iniciar o loop de treinamento do algoritmo genético."
   ]
  },
  {
   "cell_type": "code",
   "execution_count": 4,
   "id": "32181396",
   "metadata": {},
   "outputs": [
    {
     "name": "stdout",
     "output_type": "stream",
     "text": [
      "PALÍNDROMO 1\n",
      "Geração 1: ipcoc\n",
      "Geração 6: iococ\n",
      "Geração 10: iocod\n",
      "Geração 20: hocod\n",
      "Geração 27: gocod\n",
      "Geração 34: gocoe\n",
      "Geração 49: focoe\n",
      "Geração 51: focof\n",
      "PALÍNDROMO 2\n",
      "Geração 1: eiumi\n",
      "Geração 2: ejkmi\n",
      "Geração 3: fjkmi\n",
      "Geração 9: jjkmi\n",
      "Geração 13: ijkmi\n",
      "Geração 37: ikkmi\n",
      "Geração 60: ilkmi\n",
      "Geração 63: imkmi\n",
      "PALÍNDROMO 3\n",
      "Geração 1: kfmai\n",
      "Geração 9: kfmbi\n",
      "Geração 12: jfmbi\n",
      "Geração 20: ifmbi\n",
      "Geração 31: ifmci\n",
      "Geração 39: ifldi\n",
      "Geração 57: ieldi\n",
      "Geração 61: idldi\n",
      "PALÍNDROMO 4\n",
      "Geração 1: llyel\n",
      "Geração 5: lkuel\n",
      "Geração 24: ljuel\n",
      "Geração 29: liuel\n",
      "Geração 30: lhuel\n",
      "Geração 37: lhufl\n",
      "Geração 54: lhugl\n",
      "Geração 57: lgugl\n",
      "PALÍNDROMO 5\n",
      "Geração 1: uysxy\n",
      "Geração 7: uysyy\n",
      "Geração 42: uysyx\n",
      "Geração 73: uyryw\n",
      "Geração 148: uyryv\n",
      "Geração 152: uyryu\n",
      "PALÍNDROMO 6\n",
      "Geração 1: yokmu\n",
      "Geração 2: mokmm\n",
      "Geração 8: moknm\n",
      "Geração 11: mokom\n",
      "PALÍNDROMO 7\n",
      "Geração 1: imonk\n",
      "Geração 2: imnnj\n",
      "Geração 11: innnj\n",
      "Geração 42: innni\n",
      "PALÍNDROMO 8\n",
      "Geração 1: ihjeg\n",
      "Geração 4: ihjhg\n",
      "Geração 27: ihjhh\n",
      "Geração 37: ihjhi\n",
      "PALÍNDROMO 9\n",
      "Geração 1: fkred\n",
      "Geração 14: ffred\n",
      "Geração 28: efsed\n",
      "Geração 29: efsfd\n",
      "Geração 41: efsfe\n",
      "PALÍNDROMO 10\n",
      "Geração 1: efwka\n",
      "Geração 3: efwea\n",
      "Geração 4: efwfa\n",
      "Geração 9: efwfb\n",
      "Geração 42: efwfc\n",
      "Geração 84: efvfd\n",
      "Geração 112: efvfe\n"
     ]
    }
   ],
   "source": [
    "novos_palindromos = []\n",
    "\n",
    "p = 1\n",
    "while len(novos_palindromos) < 10:\n",
    "    print(f\"PALÍNDROMO {p}\")\n",
    "    populacao = cria_populacao(TAMANHO_POPULACAO, CARACTERES_POSSIVEIS)\n",
    "    menor_fitness_geral = float(\"inf\")  \n",
    "    geracao = 0\n",
    "\n",
    "    while menor_fitness_geral > 0:\n",
    "        # Seleção\n",
    "        fitness = funcao_objetivo(populacao)        \n",
    "        selecionados = funcao_selecao(populacao, fitness, TAMANHO_TORNEIO)\n",
    "        \n",
    "        # Cruzamento\n",
    "        proxima_geracao = []\n",
    "        for pai, mae in zip(selecionados[::2], selecionados[1::2]):\n",
    "            individuo1, individuo2 = funcao_cruzamento(pai, mae, CHANCE_DE_CRUZAMENTO)\n",
    "            proxima_geracao.append(individuo1)\n",
    "            proxima_geracao.append(individuo2)\n",
    "        \n",
    "        # Mutação\n",
    "        funcao_mutacao1(proxima_geracao, CHANCE_DE_MUTACAO, CARACTERES_POSSIVEIS)\n",
    "        funcao_mutacao2(proxima_geracao, CHANCE_DE_MUTACAO)\n",
    "        \n",
    "        # Nova geração\n",
    "        populacao = proxima_geracao\n",
    "        geracao += 1\n",
    "        \n",
    "        # Verifica melhor indivíduo\n",
    "        fitness = funcao_objetivo(populacao)\n",
    "        menor_fitness_observado = min(fitness)\n",
    "        if menor_fitness_observado < menor_fitness_geral:\n",
    "            menor_fitness_geral = menor_fitness_observado\n",
    "            indice = fitness.index(menor_fitness_observado)\n",
    "            candidato = populacao[indice]\n",
    "            print(f'Geração {geracao}: {\"\".join(candidato)}')\n",
    "    p+=1\n",
    "    novos_palindromos.append(candidato)"
   ]
  },
  {
   "cell_type": "markdown",
   "id": "c6a4304d",
   "metadata": {},
   "source": [
    "Como foi possível observar, grande parte dos palíndromos foram gerados em menos de 20 gerações, o que demonstra a boa performance do algoritmo genético implementado. Abaixo, é possível observar, em forma de lista, os palíndromos gerados pelo algoritmo:"
   ]
  },
  {
   "cell_type": "code",
   "execution_count": 6,
   "id": "2f74c21d",
   "metadata": {},
   "outputs": [
    {
     "data": {
      "text/plain": [
       "[['f', 'o', 'c', 'o', 'f'],\n",
       " ['i', 'm', 'k', 'm', 'i'],\n",
       " ['i', 'd', 'l', 'd', 'i'],\n",
       " ['l', 'g', 'u', 'g', 'l'],\n",
       " ['u', 'y', 'r', 'y', 'u'],\n",
       " ['m', 'o', 'k', 'o', 'm'],\n",
       " ['i', 'n', 'n', 'n', 'i'],\n",
       " ['i', 'h', 'j', 'h', 'i'],\n",
       " ['e', 'f', 's', 'f', 'e'],\n",
       " ['e', 'f', 'v', 'f', 'e']]"
      ]
     },
     "execution_count": 6,
     "metadata": {},
     "output_type": "execute_result"
    }
   ],
   "source": [
    "novos_palindromos"
   ]
  },
  {
   "cell_type": "markdown",
   "id": "c49b2d98",
   "metadata": {},
   "source": [
    "Assim como determinado pelo enunciado, todos os palíndromos gerados possuem pelo menos uma vogal e são compostos por cinco letras!"
   ]
  },
  {
   "cell_type": "markdown",
   "id": "f711b78d",
   "metadata": {},
   "source": [
    "## ☺️ **Conclusão** "
   ]
  },
  {
   "cell_type": "markdown",
   "id": "4c50b3f9",
   "metadata": {},
   "source": [
    "A partir do desenvolvimento do notebook, foi possível concluir que o algoritmo genético demonstrou alta performance, sendo capaz de gerar 10 palíndromos válidos (com 5 letras e ao menos uma vogal) em menos de 20 gerações na maioria dos casos. Isso evidencia a eficácia das estratégias escolhidas de seleção, cruzamento e mutação adotadas na resolução do problema, bem como boa estruturação da função objetivo e da função responsável por criar letras repetidas, feitas de forma autoral. "
   ]
  },
  {
   "cell_type": "markdown",
   "id": "b686ae1c",
   "metadata": {},
   "source": [
    "## 🗃️ **Referências!** "
   ]
  },
  {
   "cell_type": "markdown",
   "id": "d921304c",
   "metadata": {},
   "source": [
    "[1] Palíndromos: o que são e mais de 100 exemplos. Dicio, Dicionário Online de Português. Disponível em: <https://www.dicio.com.br/lista-palindromos/>. Acesso em: 6 jun. 2025."
   ]
  }
 ],
 "metadata": {
  "kernelspec": {
   "display_name": "Python 3",
   "language": "python",
   "name": "python3"
  },
  "language_info": {
   "codemirror_mode": {
    "name": "ipython",
    "version": 3
   },
   "file_extension": ".py",
   "mimetype": "text/x-python",
   "name": "python",
   "nbconvert_exporter": "python",
   "pygments_lexer": "ipython3",
   "version": "3.11.6"
  }
 },
 "nbformat": 4,
 "nbformat_minor": 5
}
